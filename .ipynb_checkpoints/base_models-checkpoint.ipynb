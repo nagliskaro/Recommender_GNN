{
 "cells": [
  {
   "cell_type": "markdown",
   "metadata": {},
   "source": [
    "# Content Based and Collaborative Filtering methods\n",
    "\n",
    "In the following notebook we examine the performance of two baseline models: Content Based Filtering and Collaborative Filtering approaches. The choice of these two is motivated by their common use and popularity in the recommender systems research."
   ]
  },
  {
   "cell_type": "markdown",
   "metadata": {},
   "source": [
    "## Imports"
   ]
  },
  {
   "cell_type": "code",
   "execution_count": 21,
   "metadata": {},
   "outputs": [],
   "source": [
    "import pandas as pd\n",
    "import numpy as np\n",
    "import re\n",
    "\n",
    "from sklearn.feature_extraction.text import CountVectorizer\n",
    "from sklearn.metrics.pairwise import cosine_similarity\n",
    "from surprise import Dataset, Reader, SVD, accuracy\n",
    "from surprise.model_selection import train_test_split\n",
    "\n",
    "from collections import defaultdict\n",
    "from surprise import accuracy"
   ]
  },
  {
   "cell_type": "markdown",
   "metadata": {},
   "source": [
    "## Data initialization"
   ]
  },
  {
   "cell_type": "code",
   "execution_count": 4,
   "metadata": {
    "scrolled": true
   },
   "outputs": [],
   "source": [
    "ratings = pd.read_csv(\"Data/Ratings.csv\")\n",
    "books = pd.read_csv(\"Data/Books.csv\", dtype={3: str})\n",
    "users = pd.read_csv(\"Data/Users.csv\")"
   ]
  },
  {
   "cell_type": "markdown",
   "metadata": {},
   "source": [
    "## Collaborative Filtering"
   ]
  },
  {
   "cell_type": "markdown",
   "metadata": {},
   "source": [
    "The following is partly based on [this Kaggle documentation](https://www.kaggle.com/code/alnourabdalrahman9/collaborative-filtering-books-recommendation)"
   ]
  },
  {
   "cell_type": "markdown",
   "metadata": {},
   "source": [
    "### Data Merging\n",
    "\n",
    "For a more efficient handling, merging neccesary columns into one data frame."
   ]
  },
  {
   "cell_type": "code",
   "execution_count": 5,
   "metadata": {},
   "outputs": [],
   "source": [
    "ratings = ratings.merge(books, on='ISBN').drop(columns=[\"ISBN\", \"Image-URL-S\", \"Image-URL-M\", \"Image-URL-L\"])\n",
    "ratings = ratings.merge(users.drop(\"Age\", axis=1), on=\"User-ID\")"
   ]
  },
  {
   "cell_type": "code",
   "execution_count": 4,
   "metadata": {
    "scrolled": true
   },
   "outputs": [
    {
     "data": {
      "text/html": [
       "<div>\n",
       "<style scoped>\n",
       "    .dataframe tbody tr th:only-of-type {\n",
       "        vertical-align: middle;\n",
       "    }\n",
       "\n",
       "    .dataframe tbody tr th {\n",
       "        vertical-align: top;\n",
       "    }\n",
       "\n",
       "    .dataframe thead th {\n",
       "        text-align: right;\n",
       "    }\n",
       "</style>\n",
       "<table border=\"1\" class=\"dataframe\">\n",
       "  <thead>\n",
       "    <tr style=\"text-align: right;\">\n",
       "      <th></th>\n",
       "      <th>User-ID</th>\n",
       "      <th>Book-Rating</th>\n",
       "      <th>Book-Title</th>\n",
       "      <th>Book-Author</th>\n",
       "      <th>Year-Of-Publication</th>\n",
       "      <th>Publisher</th>\n",
       "      <th>Location</th>\n",
       "    </tr>\n",
       "  </thead>\n",
       "  <tbody>\n",
       "    <tr>\n",
       "      <th>0</th>\n",
       "      <td>276725</td>\n",
       "      <td>0</td>\n",
       "      <td>Flesh Tones: A Novel</td>\n",
       "      <td>M. J. Rose</td>\n",
       "      <td>2002</td>\n",
       "      <td>Ballantine Books</td>\n",
       "      <td>tyler, texas, usa</td>\n",
       "    </tr>\n",
       "    <tr>\n",
       "      <th>1</th>\n",
       "      <td>2313</td>\n",
       "      <td>5</td>\n",
       "      <td>Flesh Tones: A Novel</td>\n",
       "      <td>M. J. Rose</td>\n",
       "      <td>2002</td>\n",
       "      <td>Ballantine Books</td>\n",
       "      <td>cincinnati, ohio, usa</td>\n",
       "    </tr>\n",
       "    <tr>\n",
       "      <th>2</th>\n",
       "      <td>2313</td>\n",
       "      <td>9</td>\n",
       "      <td>Ender's Game (Ender Wiggins Saga (Paperback))</td>\n",
       "      <td>Orson Scott Card</td>\n",
       "      <td>1986</td>\n",
       "      <td>Tor Books</td>\n",
       "      <td>cincinnati, ohio, usa</td>\n",
       "    </tr>\n",
       "    <tr>\n",
       "      <th>3</th>\n",
       "      <td>2313</td>\n",
       "      <td>8</td>\n",
       "      <td>In Cold Blood (Vintage International)</td>\n",
       "      <td>TRUMAN CAPOTE</td>\n",
       "      <td>1994</td>\n",
       "      <td>Vintage</td>\n",
       "      <td>cincinnati, ohio, usa</td>\n",
       "    </tr>\n",
       "    <tr>\n",
       "      <th>4</th>\n",
       "      <td>2313</td>\n",
       "      <td>9</td>\n",
       "      <td>Divine Secrets of the Ya-Ya Sisterhood : A Novel</td>\n",
       "      <td>Rebecca Wells</td>\n",
       "      <td>1996</td>\n",
       "      <td>HarperCollins</td>\n",
       "      <td>cincinnati, ohio, usa</td>\n",
       "    </tr>\n",
       "    <tr>\n",
       "      <th>...</th>\n",
       "      <td>...</td>\n",
       "      <td>...</td>\n",
       "      <td>...</td>\n",
       "      <td>...</td>\n",
       "      <td>...</td>\n",
       "      <td>...</td>\n",
       "      <td>...</td>\n",
       "    </tr>\n",
       "    <tr>\n",
       "      <th>1031131</th>\n",
       "      <td>276442</td>\n",
       "      <td>7</td>\n",
       "      <td>Le Huit</td>\n",
       "      <td>Katherine Neville</td>\n",
       "      <td>2002</td>\n",
       "      <td>Le Cherche Midi</td>\n",
       "      <td>genève, genève, switzerland</td>\n",
       "    </tr>\n",
       "    <tr>\n",
       "      <th>1031132</th>\n",
       "      <td>276618</td>\n",
       "      <td>5</td>\n",
       "      <td>Ludwig Marum: Briefe aus dem Konzentrationslag...</td>\n",
       "      <td>Ludwig Marum</td>\n",
       "      <td>1984</td>\n",
       "      <td>C.F. MÃ¼ller</td>\n",
       "      <td>stuttgart, \\n/a\\\"., germany\"</td>\n",
       "    </tr>\n",
       "    <tr>\n",
       "      <th>1031133</th>\n",
       "      <td>276647</td>\n",
       "      <td>0</td>\n",
       "      <td>Christmas With Anne and Other Holiday Stories:...</td>\n",
       "      <td>L. M. Montgomery</td>\n",
       "      <td>2001</td>\n",
       "      <td>Starfire</td>\n",
       "      <td>arlington heights, illinois, usa</td>\n",
       "    </tr>\n",
       "    <tr>\n",
       "      <th>1031134</th>\n",
       "      <td>276647</td>\n",
       "      <td>10</td>\n",
       "      <td>Heaven (Coretta Scott King Author Award Winner)</td>\n",
       "      <td>Angela Johnson</td>\n",
       "      <td>1998</td>\n",
       "      <td>Simon &amp;amp; Schuster Children's Publishing</td>\n",
       "      <td>arlington heights, illinois, usa</td>\n",
       "    </tr>\n",
       "    <tr>\n",
       "      <th>1031135</th>\n",
       "      <td>276660</td>\n",
       "      <td>8</td>\n",
       "      <td>ROBOT RACE (MICRO ADV 6)</td>\n",
       "      <td>David Antony Kroft</td>\n",
       "      <td>1985</td>\n",
       "      <td>HarperCollins Publishers</td>\n",
       "      <td>singapore, n/a, singapore</td>\n",
       "    </tr>\n",
       "  </tbody>\n",
       "</table>\n",
       "<p>1031136 rows × 7 columns</p>\n",
       "</div>"
      ],
      "text/plain": [
       "         User-ID  Book-Rating  \\\n",
       "0         276725            0   \n",
       "1           2313            5   \n",
       "2           2313            9   \n",
       "3           2313            8   \n",
       "4           2313            9   \n",
       "...          ...          ...   \n",
       "1031131   276442            7   \n",
       "1031132   276618            5   \n",
       "1031133   276647            0   \n",
       "1031134   276647           10   \n",
       "1031135   276660            8   \n",
       "\n",
       "                                                Book-Title  \\\n",
       "0                                     Flesh Tones: A Novel   \n",
       "1                                     Flesh Tones: A Novel   \n",
       "2            Ender's Game (Ender Wiggins Saga (Paperback))   \n",
       "3                    In Cold Blood (Vintage International)   \n",
       "4         Divine Secrets of the Ya-Ya Sisterhood : A Novel   \n",
       "...                                                    ...   \n",
       "1031131                                            Le Huit   \n",
       "1031132  Ludwig Marum: Briefe aus dem Konzentrationslag...   \n",
       "1031133  Christmas With Anne and Other Holiday Stories:...   \n",
       "1031134    Heaven (Coretta Scott King Author Award Winner)   \n",
       "1031135                           ROBOT RACE (MICRO ADV 6)   \n",
       "\n",
       "                Book-Author Year-Of-Publication  \\\n",
       "0                M. J. Rose                2002   \n",
       "1                M. J. Rose                2002   \n",
       "2          Orson Scott Card                1986   \n",
       "3             TRUMAN CAPOTE                1994   \n",
       "4             Rebecca Wells                1996   \n",
       "...                     ...                 ...   \n",
       "1031131   Katherine Neville                2002   \n",
       "1031132        Ludwig Marum                1984   \n",
       "1031133    L. M. Montgomery                2001   \n",
       "1031134      Angela Johnson                1998   \n",
       "1031135  David Antony Kroft                1985   \n",
       "\n",
       "                                          Publisher  \\\n",
       "0                                  Ballantine Books   \n",
       "1                                  Ballantine Books   \n",
       "2                                         Tor Books   \n",
       "3                                           Vintage   \n",
       "4                                     HarperCollins   \n",
       "...                                             ...   \n",
       "1031131                             Le Cherche Midi   \n",
       "1031132                                C.F. MÃ¼ller   \n",
       "1031133                                    Starfire   \n",
       "1031134  Simon &amp; Schuster Children's Publishing   \n",
       "1031135                    HarperCollins Publishers   \n",
       "\n",
       "                                 Location  \n",
       "0                       tyler, texas, usa  \n",
       "1                   cincinnati, ohio, usa  \n",
       "2                   cincinnati, ohio, usa  \n",
       "3                   cincinnati, ohio, usa  \n",
       "4                   cincinnati, ohio, usa  \n",
       "...                                   ...  \n",
       "1031131       genève, genève, switzerland  \n",
       "1031132      stuttgart, \\n/a\\\"., germany\"  \n",
       "1031133  arlington heights, illinois, usa  \n",
       "1031134  arlington heights, illinois, usa  \n",
       "1031135         singapore, n/a, singapore  \n",
       "\n",
       "[1031136 rows x 7 columns]"
      ]
     },
     "execution_count": 4,
     "metadata": {},
     "output_type": "execute_result"
    }
   ],
   "source": [
    "ratings"
   ]
  },
  {
   "cell_type": "code",
   "execution_count": 6,
   "metadata": {},
   "outputs": [],
   "source": [
    "# Since not all users contain cities, we keep only the country\n",
    "ratings['Location'] = ratings['Location'].str.split(',').str[-1].str.strip()"
   ]
  },
  {
   "cell_type": "markdown",
   "metadata": {},
   "source": [
    "### Filtering "
   ]
  },
  {
   "cell_type": "code",
   "execution_count": 7,
   "metadata": {
    "scrolled": true
   },
   "outputs": [],
   "source": [
    "active_users = ratings.groupby('User-ID')['Book-Rating'].count()\n",
    "# Filtering of 2000 was a the maximum viable threshold for Kernel to not crash\n",
    "active_user_ids = active_users[active_users > 2000].index\n",
    "#active_user_ids"
   ]
  },
  {
   "cell_type": "code",
   "execution_count": 8,
   "metadata": {},
   "outputs": [],
   "source": [
    "books = ratings.groupby('Book-Title')['Book-Rating'].count()\n",
    "book_titles = books.index\n",
    "# Filter for user above threshold and all books\n",
    "filtered_df = ratings[ratings['User-ID'].isin(active_user_ids) & ratings['Book-Title'].isin(book_titles)]"
   ]
  },
  {
   "cell_type": "code",
   "execution_count": 8,
   "metadata": {
    "scrolled": true
   },
   "outputs": [
    {
     "data": {
      "text/html": [
       "<div>\n",
       "<style scoped>\n",
       "    .dataframe tbody tr th:only-of-type {\n",
       "        vertical-align: middle;\n",
       "    }\n",
       "\n",
       "    .dataframe tbody tr th {\n",
       "        vertical-align: top;\n",
       "    }\n",
       "\n",
       "    .dataframe thead th {\n",
       "        text-align: right;\n",
       "    }\n",
       "</style>\n",
       "<table border=\"1\" class=\"dataframe\">\n",
       "  <thead>\n",
       "    <tr style=\"text-align: right;\">\n",
       "      <th></th>\n",
       "      <th>User-ID</th>\n",
       "      <th>Book-Rating</th>\n",
       "      <th>Book-Title</th>\n",
       "      <th>Book-Author</th>\n",
       "      <th>Year-Of-Publication</th>\n",
       "      <th>Publisher</th>\n",
       "      <th>Location</th>\n",
       "    </tr>\n",
       "  </thead>\n",
       "  <tbody>\n",
       "    <tr>\n",
       "      <th>4021</th>\n",
       "      <td>98391</td>\n",
       "      <td>9</td>\n",
       "      <td>Flesh Tones: A Novel</td>\n",
       "      <td>M. J. Rose</td>\n",
       "      <td>2002</td>\n",
       "      <td>Ballantine Books</td>\n",
       "      <td>usa</td>\n",
       "    </tr>\n",
       "    <tr>\n",
       "      <th>4022</th>\n",
       "      <td>98391</td>\n",
       "      <td>8</td>\n",
       "      <td>At the Edge</td>\n",
       "      <td>David Dun</td>\n",
       "      <td>2002</td>\n",
       "      <td>Pinnacle Books</td>\n",
       "      <td>usa</td>\n",
       "    </tr>\n",
       "    <tr>\n",
       "      <th>4023</th>\n",
       "      <td>98391</td>\n",
       "      <td>9</td>\n",
       "      <td>Southampton Row (Charlotte &amp;amp; Thomas Pitt N...</td>\n",
       "      <td>Anne Perry</td>\n",
       "      <td>2002</td>\n",
       "      <td>Ballantine Books</td>\n",
       "      <td>usa</td>\n",
       "    </tr>\n",
       "    <tr>\n",
       "      <th>4024</th>\n",
       "      <td>98391</td>\n",
       "      <td>9</td>\n",
       "      <td>The Lovely Bones: A Novel</td>\n",
       "      <td>Alice Sebold</td>\n",
       "      <td>2002</td>\n",
       "      <td>Little, Brown</td>\n",
       "      <td>usa</td>\n",
       "    </tr>\n",
       "    <tr>\n",
       "      <th>4025</th>\n",
       "      <td>98391</td>\n",
       "      <td>10</td>\n",
       "      <td>The Da Vinci Code</td>\n",
       "      <td>Dan Brown</td>\n",
       "      <td>2003</td>\n",
       "      <td>Doubleday</td>\n",
       "      <td>usa</td>\n",
       "    </tr>\n",
       "    <tr>\n",
       "      <th>...</th>\n",
       "      <td>...</td>\n",
       "      <td>...</td>\n",
       "      <td>...</td>\n",
       "      <td>...</td>\n",
       "      <td>...</td>\n",
       "      <td>...</td>\n",
       "      <td>...</td>\n",
       "    </tr>\n",
       "    <tr>\n",
       "      <th>509042</th>\n",
       "      <td>171118</td>\n",
       "      <td>8</td>\n",
       "      <td>Too Many Clients</td>\n",
       "      <td>Rex Stout</td>\n",
       "      <td>1990</td>\n",
       "      <td>Bantam Books</td>\n",
       "      <td>canada</td>\n",
       "    </tr>\n",
       "    <tr>\n",
       "      <th>509043</th>\n",
       "      <td>171118</td>\n",
       "      <td>0</td>\n",
       "      <td>Nebula Award Stories: 5</td>\n",
       "      <td>James Blish</td>\n",
       "      <td>1983</td>\n",
       "      <td>Bantam Books</td>\n",
       "      <td>canada</td>\n",
       "    </tr>\n",
       "    <tr>\n",
       "      <th>509044</th>\n",
       "      <td>171118</td>\n",
       "      <td>0</td>\n",
       "      <td>Wrong End of Time</td>\n",
       "      <td>John Brunner</td>\n",
       "      <td>1971</td>\n",
       "      <td>Doubleday</td>\n",
       "      <td>canada</td>\n",
       "    </tr>\n",
       "    <tr>\n",
       "      <th>509045</th>\n",
       "      <td>171118</td>\n",
       "      <td>0</td>\n",
       "      <td>Werewolf Principle</td>\n",
       "      <td>Clifford D. Simak</td>\n",
       "      <td>1967</td>\n",
       "      <td>Putnam Pub Group</td>\n",
       "      <td>canada</td>\n",
       "    </tr>\n",
       "    <tr>\n",
       "      <th>509046</th>\n",
       "      <td>171118</td>\n",
       "      <td>0</td>\n",
       "      <td>Complete Guide to Effective English: Harbrace ...</td>\n",
       "      <td>John C. Hodges</td>\n",
       "      <td>1982</td>\n",
       "      <td>Granite Impex Ltd</td>\n",
       "      <td>canada</td>\n",
       "    </tr>\n",
       "  </tbody>\n",
       "</table>\n",
       "<p>95143 rows × 7 columns</p>\n",
       "</div>"
      ],
      "text/plain": [
       "        User-ID  Book-Rating  \\\n",
       "4021      98391            9   \n",
       "4022      98391            8   \n",
       "4023      98391            9   \n",
       "4024      98391            9   \n",
       "4025      98391           10   \n",
       "...         ...          ...   \n",
       "509042   171118            8   \n",
       "509043   171118            0   \n",
       "509044   171118            0   \n",
       "509045   171118            0   \n",
       "509046   171118            0   \n",
       "\n",
       "                                               Book-Title        Book-Author  \\\n",
       "4021                                 Flesh Tones: A Novel         M. J. Rose   \n",
       "4022                                          At the Edge          David Dun   \n",
       "4023    Southampton Row (Charlotte &amp; Thomas Pitt N...         Anne Perry   \n",
       "4024                            The Lovely Bones: A Novel       Alice Sebold   \n",
       "4025                                    The Da Vinci Code          Dan Brown   \n",
       "...                                                   ...                ...   \n",
       "509042                                   Too Many Clients          Rex Stout   \n",
       "509043                            Nebula Award Stories: 5        James Blish   \n",
       "509044                                  Wrong End of Time       John Brunner   \n",
       "509045                                 Werewolf Principle  Clifford D. Simak   \n",
       "509046  Complete Guide to Effective English: Harbrace ...     John C. Hodges   \n",
       "\n",
       "       Year-Of-Publication          Publisher Location  \n",
       "4021                  2002   Ballantine Books      usa  \n",
       "4022                  2002     Pinnacle Books      usa  \n",
       "4023                  2002   Ballantine Books      usa  \n",
       "4024                  2002      Little, Brown      usa  \n",
       "4025                  2003          Doubleday      usa  \n",
       "...                    ...                ...      ...  \n",
       "509042                1990       Bantam Books   canada  \n",
       "509043                1983       Bantam Books   canada  \n",
       "509044                1971          Doubleday   canada  \n",
       "509045                1967   Putnam Pub Group   canada  \n",
       "509046                1982  Granite Impex Ltd   canada  \n",
       "\n",
       "[95143 rows x 7 columns]"
      ]
     },
     "execution_count": 8,
     "metadata": {},
     "output_type": "execute_result"
    }
   ],
   "source": [
    "filtered_df"
   ]
  },
  {
   "cell_type": "markdown",
   "metadata": {},
   "source": [
    "### Similarity Matrix"
   ]
  },
  {
   "cell_type": "code",
   "execution_count": 9,
   "metadata": {},
   "outputs": [],
   "source": [
    "pivot_table = filtered_df.pivot_table(index='Book-Title', columns='User-ID', values='Book-Rating')\n",
    "pivot_table.fillna(0, inplace=True)"
   ]
  },
  {
   "cell_type": "code",
   "execution_count": 10,
   "metadata": {},
   "outputs": [],
   "source": [
    "similarity_matrix = cosine_similarity(pivot_table)"
   ]
  },
  {
   "cell_type": "markdown",
   "metadata": {},
   "source": [
    "Defining a function for CF top 10 recommendations; based on the aforementioned kaggle narrative, adjusted for wider applicability"
   ]
  },
  {
   "cell_type": "code",
   "execution_count": 11,
   "metadata": {},
   "outputs": [],
   "source": [
    "def recommend_cf(name):\n",
    "    top_n = 10\n",
    "    book_idx = pivot_table.index.get_loc(name)\n",
    "    # Search through to find the most similar books\n",
    "    similar_books = sorted(enumerate(similarity_matrix[book_idx]), key=lambda x: x[1], reverse=True)[1:top_n+1]\n",
    "    # Return a list for recommended books; _ since the score is not needed\n",
    "    recommendations = [pivot_table.index[i] for i, _ in similar_books]\n",
    "    return recommendations"
   ]
  },
  {
   "cell_type": "code",
   "execution_count": 12,
   "metadata": {},
   "outputs": [
    {
     "data": {
      "text/plain": [
       "['Girl, Interrupted',\n",
       " 'House of Sand and Fog',\n",
       " \"ANGELA'S ASHES\",\n",
       " 'Peace Like a River',\n",
       " 'Empire Falls',\n",
       " 'A Night to Remember',\n",
       " \"Ender's Game (Ender Wiggins Saga (Paperback))\",\n",
       " 'Waiting (Vintage International)',\n",
       " 'Life, the Universe and Everything',\n",
       " 'Sideways Stories from Wayside School (Wayside School)']"
      ]
     },
     "execution_count": 12,
     "metadata": {},
     "output_type": "execute_result"
    }
   ],
   "source": [
    "recommend_cf(\"The Catcher in the Rye\")"
   ]
  },
  {
   "cell_type": "markdown",
   "metadata": {},
   "source": [
    "## Content-Based Filtering\n",
    "\n",
    "The following method is based on [this Kaggle documentation](https://www.kaggle.com/code/eyadgk/books-eda-vis-recommendation-systems#6-%7C%7C-Content-Based-Filtering-Recommender-System)"
   ]
  },
  {
   "cell_type": "code",
   "execution_count": 9,
   "metadata": {},
   "outputs": [
    {
     "name": "stderr",
     "output_type": "stream",
     "text": [
      "/var/folders/qw/h5qjjyx57sn6pb8_hv0_3_600000gn/T/ipykernel_2149/2393592844.py:4: SettingWithCopyWarning: \n",
      "A value is trying to be set on a copy of a slice from a DataFrame.\n",
      "Try using .loc[row_indexer,col_indexer] = value instead\n",
      "\n",
      "See the caveats in the documentation: https://pandas.pydata.org/pandas-docs/stable/user_guide/indexing.html#returning-a-view-versus-a-copy\n",
      "  unique_books['combined_features'] = unique_books.apply(lambda x: ' '.join(x[feature_columns].astype(str)), axis=1)\n"
     ]
    }
   ],
   "source": [
    "unique_books = filtered_df.drop_duplicates(subset=['Book-Title'])\n",
    "unique_books.reset_index(drop=True, inplace=True)\n",
    "feature_columns = [\"Book-Title\", \"Book-Author\", \"Publisher\"]\n",
    "unique_books['combined_features'] = unique_books.apply(lambda x: ' '.join(x[feature_columns].astype(str)), axis=1)"
   ]
  },
  {
   "cell_type": "code",
   "execution_count": 12,
   "metadata": {
    "scrolled": true
   },
   "outputs": [
    {
     "data": {
      "text/plain": [
       "0         Flesh Tones: A Novel M. J. Rose Ballantine Books\n",
       "1                     At the Edge David Dun Pinnacle Books\n",
       "2        Southampton Row (Charlotte &amp; Thomas Pitt N...\n",
       "3        The Lovely Bones: A Novel Alice Sebold Little,...\n",
       "4                    The Da Vinci Code Dan Brown Doubleday\n",
       "                               ...                        \n",
       "59244              Too Many Clients Rex Stout Bantam Books\n",
       "59245     Nebula Award Stories: 5 James Blish Bantam Books\n",
       "59246             Wrong End of Time John Brunner Doubleday\n",
       "59247    Werewolf Principle Clifford D. Simak Putnam Pu...\n",
       "59248    Complete Guide to Effective English: Harbrace ...\n",
       "Name: combined_features, Length: 59249, dtype: object"
      ]
     },
     "execution_count": 12,
     "metadata": {},
     "output_type": "execute_result"
    }
   ],
   "source": [
    "unique_books['combined_features']"
   ]
  },
  {
   "cell_type": "code",
   "execution_count": 13,
   "metadata": {},
   "outputs": [],
   "source": [
    "vectorizer = CountVectorizer()\n",
    "feature_vectors = vectorizer.fit_transform(unique_books['combined_features'])"
   ]
  },
  {
   "cell_type": "code",
   "execution_count": 14,
   "metadata": {},
   "outputs": [],
   "source": [
    "from scipy.sparse import csr_matrix\n",
    "feature_vectors = csr_matrix(feature_vectors)"
   ]
  },
  {
   "cell_type": "code",
   "execution_count": 16,
   "metadata": {},
   "outputs": [],
   "source": [
    "similarity_matrix = cosine_similarity(feature_vectors)"
   ]
  },
  {
   "cell_type": "code",
   "execution_count": 19,
   "metadata": {},
   "outputs": [],
   "source": [
    "def recommend_cbf(name):\n",
    "    top_n = 10\n",
    "    book_index = unique_books[unique_books['Book-Title'] == name].index[0]\n",
    "    similar_books = sorted(enumerate(similarity_matrix[book_index]), key=lambda x: x[1], reverse=True)[1:top_n+1]\n",
    "    recommendations = [unique_books['Book-Title'].iloc[i] for i, _ in similar_books]\n",
    "    return recommendations"
   ]
  },
  {
   "cell_type": "code",
   "execution_count": 20,
   "metadata": {},
   "outputs": [
    {
     "data": {
      "text/plain": [
       "['Catcher in the Rye',\n",
       " 'The Little House in the Highlands',\n",
       " 'The Clothes They Stood Up in and the Lady in the Van: And, the Lady in the Van',\n",
       " 'The Castafiore Emerald (The Adventures of Tintin)',\n",
       " 'Not the end of the world',\n",
       " 'At the Highest Levels: The Inside Story of the End of the Cold War',\n",
       " 'WIND IN THE WILLOWS: THE WILD WOOD (Wind in the Willows, No 3)',\n",
       " 'Fire in the lake: The Vietnamese and the Americans in Vietnam',\n",
       " \"The People's Almanac Presents the Book of Lists/the '90s Edition\",\n",
       " 'In the Walled Gardens: A Novel']"
      ]
     },
     "execution_count": 20,
     "metadata": {},
     "output_type": "execute_result"
    }
   ],
   "source": [
    "recommend_cbf(\"The Catcher in the Rye\")"
   ]
  },
  {
   "cell_type": "markdown",
   "metadata": {},
   "source": [
    "## Evaluations\n",
    "\n",
    "Four main metrics were chosen to define accuracy for the baseline models:\n",
    "\n",
    "- RMSE\n",
    "- Precision\n",
    "- Recall\n",
    "- F1 "
   ]
  }
 ],
 "metadata": {
  "kernelspec": {
   "display_name": "Python 3 (ipykernel)",
   "language": "python",
   "name": "python3"
  },
  "language_info": {
   "codemirror_mode": {
    "name": "ipython",
    "version": 3
   },
   "file_extension": ".py",
   "mimetype": "text/x-python",
   "name": "python",
   "nbconvert_exporter": "python",
   "pygments_lexer": "ipython3",
   "version": "3.9.12"
  },
  "vscode": {
   "interpreter": {
    "hash": "8f6377febe87314814c7b7161cea679ad38a9298f17e15a391a898e937fe96e0"
   }
  }
 },
 "nbformat": 4,
 "nbformat_minor": 2
}
