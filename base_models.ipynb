{
 "cells": [
  {
   "cell_type": "markdown",
   "metadata": {},
   "source": [
    "# Content Based and Collaborative Filtering methods\n",
    "\n",
    "In the following notebook we examine the performance of two baseline models: Content Based Filtering and Collaborative Filtering approaches. The choice of these two is motivated by their common use and popularity in the recommender systems research."
   ]
  },
  {
   "cell_type": "markdown",
   "metadata": {},
   "source": [
    "## Imports"
   ]
  },
  {
   "cell_type": "code",
   "execution_count": 1,
   "metadata": {},
   "outputs": [],
   "source": [
    "import pandas as pd\n",
    "import numpy as np\n",
    "import re\n",
    "\n",
    "from sklearn.feature_extraction.text import CountVectorizer\n",
    "from sklearn.metrics.pairwise import cosine_similarity\n",
    "from surprise import Dataset, Reader, SVD, accuracy\n",
    "from sklearn.model_selection import train_test_split\n",
    "\n",
    "SEED = 42\n",
    "\n",
    "from collections import defaultdict\n",
    "from surprise import accuracy\n",
    "from sklearn.metrics import mean_squared_error"
   ]
  },
  {
   "cell_type": "markdown",
   "metadata": {},
   "source": [
    "## Data initialization"
   ]
  },
  {
   "cell_type": "code",
   "execution_count": 2,
   "metadata": {
    "scrolled": true
   },
   "outputs": [],
   "source": [
    "ratings = pd.read_csv(\"Data/Ratings.csv\")\n",
    "books = pd.read_csv(\"Data/Books.csv\", dtype={3: str})\n",
    "users = pd.read_csv(\"Data/Users.csv\")"
   ]
  },
  {
   "cell_type": "markdown",
   "metadata": {},
   "source": [
    "## Collaborative Filtering"
   ]
  },
  {
   "attachments": {},
   "cell_type": "markdown",
   "metadata": {},
   "source": [
    "The following is partly based on [this Kaggle documentation](https://www.kaggle.com/code/alnourabdalrahman9/collaborative-filtering-books-recommendation)\n",
    "\n",
    "CF method recommends a book for a given user matching its preferences with other similar users."
   ]
  },
  {
   "cell_type": "markdown",
   "metadata": {},
   "source": [
    "### Data Merging\n",
    "\n",
    "For a more efficient handling, merging neccesary columns into one data frame."
   ]
  },
  {
   "cell_type": "code",
   "execution_count": 3,
   "metadata": {},
   "outputs": [],
   "source": [
    "ratings = ratings.merge(books, on='ISBN').drop(columns=[\"ISBN\", \"Image-URL-S\", \"Image-URL-M\", \"Image-URL-L\"])\n",
    "ratings = ratings.merge(users.drop(\"Age\", axis=1), on=\"User-ID\")"
   ]
  },
  {
   "cell_type": "code",
   "execution_count": 4,
   "metadata": {
    "scrolled": false
   },
   "outputs": [
    {
     "data": {
      "text/html": [
       "<div>\n",
       "<style scoped>\n",
       "    .dataframe tbody tr th:only-of-type {\n",
       "        vertical-align: middle;\n",
       "    }\n",
       "\n",
       "    .dataframe tbody tr th {\n",
       "        vertical-align: top;\n",
       "    }\n",
       "\n",
       "    .dataframe thead th {\n",
       "        text-align: right;\n",
       "    }\n",
       "</style>\n",
       "<table border=\"1\" class=\"dataframe\">\n",
       "  <thead>\n",
       "    <tr style=\"text-align: right;\">\n",
       "      <th></th>\n",
       "      <th>User-ID</th>\n",
       "      <th>Book-Rating</th>\n",
       "      <th>Book-Title</th>\n",
       "      <th>Book-Author</th>\n",
       "      <th>Year-Of-Publication</th>\n",
       "      <th>Publisher</th>\n",
       "      <th>Location</th>\n",
       "    </tr>\n",
       "  </thead>\n",
       "  <tbody>\n",
       "    <tr>\n",
       "      <th>0</th>\n",
       "      <td>276725</td>\n",
       "      <td>0</td>\n",
       "      <td>Flesh Tones: A Novel</td>\n",
       "      <td>M. J. Rose</td>\n",
       "      <td>2002</td>\n",
       "      <td>Ballantine Books</td>\n",
       "      <td>tyler, texas, usa</td>\n",
       "    </tr>\n",
       "    <tr>\n",
       "      <th>1</th>\n",
       "      <td>2313</td>\n",
       "      <td>5</td>\n",
       "      <td>Flesh Tones: A Novel</td>\n",
       "      <td>M. J. Rose</td>\n",
       "      <td>2002</td>\n",
       "      <td>Ballantine Books</td>\n",
       "      <td>cincinnati, ohio, usa</td>\n",
       "    </tr>\n",
       "    <tr>\n",
       "      <th>2</th>\n",
       "      <td>2313</td>\n",
       "      <td>9</td>\n",
       "      <td>Ender's Game (Ender Wiggins Saga (Paperback))</td>\n",
       "      <td>Orson Scott Card</td>\n",
       "      <td>1986</td>\n",
       "      <td>Tor Books</td>\n",
       "      <td>cincinnati, ohio, usa</td>\n",
       "    </tr>\n",
       "    <tr>\n",
       "      <th>3</th>\n",
       "      <td>2313</td>\n",
       "      <td>8</td>\n",
       "      <td>In Cold Blood (Vintage International)</td>\n",
       "      <td>TRUMAN CAPOTE</td>\n",
       "      <td>1994</td>\n",
       "      <td>Vintage</td>\n",
       "      <td>cincinnati, ohio, usa</td>\n",
       "    </tr>\n",
       "    <tr>\n",
       "      <th>4</th>\n",
       "      <td>2313</td>\n",
       "      <td>9</td>\n",
       "      <td>Divine Secrets of the Ya-Ya Sisterhood : A Novel</td>\n",
       "      <td>Rebecca Wells</td>\n",
       "      <td>1996</td>\n",
       "      <td>HarperCollins</td>\n",
       "      <td>cincinnati, ohio, usa</td>\n",
       "    </tr>\n",
       "    <tr>\n",
       "      <th>...</th>\n",
       "      <td>...</td>\n",
       "      <td>...</td>\n",
       "      <td>...</td>\n",
       "      <td>...</td>\n",
       "      <td>...</td>\n",
       "      <td>...</td>\n",
       "      <td>...</td>\n",
       "    </tr>\n",
       "    <tr>\n",
       "      <th>1031131</th>\n",
       "      <td>276442</td>\n",
       "      <td>7</td>\n",
       "      <td>Le Huit</td>\n",
       "      <td>Katherine Neville</td>\n",
       "      <td>2002</td>\n",
       "      <td>Le Cherche Midi</td>\n",
       "      <td>genève, genève, switzerland</td>\n",
       "    </tr>\n",
       "    <tr>\n",
       "      <th>1031132</th>\n",
       "      <td>276618</td>\n",
       "      <td>5</td>\n",
       "      <td>Ludwig Marum: Briefe aus dem Konzentrationslag...</td>\n",
       "      <td>Ludwig Marum</td>\n",
       "      <td>1984</td>\n",
       "      <td>C.F. MÃ¼ller</td>\n",
       "      <td>stuttgart, \\n/a\\\"., germany\"</td>\n",
       "    </tr>\n",
       "    <tr>\n",
       "      <th>1031133</th>\n",
       "      <td>276647</td>\n",
       "      <td>0</td>\n",
       "      <td>Christmas With Anne and Other Holiday Stories:...</td>\n",
       "      <td>L. M. Montgomery</td>\n",
       "      <td>2001</td>\n",
       "      <td>Starfire</td>\n",
       "      <td>arlington heights, illinois, usa</td>\n",
       "    </tr>\n",
       "    <tr>\n",
       "      <th>1031134</th>\n",
       "      <td>276647</td>\n",
       "      <td>10</td>\n",
       "      <td>Heaven (Coretta Scott King Author Award Winner)</td>\n",
       "      <td>Angela Johnson</td>\n",
       "      <td>1998</td>\n",
       "      <td>Simon &amp;amp; Schuster Children's Publishing</td>\n",
       "      <td>arlington heights, illinois, usa</td>\n",
       "    </tr>\n",
       "    <tr>\n",
       "      <th>1031135</th>\n",
       "      <td>276660</td>\n",
       "      <td>8</td>\n",
       "      <td>ROBOT RACE (MICRO ADV 6)</td>\n",
       "      <td>David Antony Kroft</td>\n",
       "      <td>1985</td>\n",
       "      <td>HarperCollins Publishers</td>\n",
       "      <td>singapore, n/a, singapore</td>\n",
       "    </tr>\n",
       "  </tbody>\n",
       "</table>\n",
       "<p>1031136 rows × 7 columns</p>\n",
       "</div>"
      ],
      "text/plain": [
       "         User-ID  Book-Rating  \\\n",
       "0         276725            0   \n",
       "1           2313            5   \n",
       "2           2313            9   \n",
       "3           2313            8   \n",
       "4           2313            9   \n",
       "...          ...          ...   \n",
       "1031131   276442            7   \n",
       "1031132   276618            5   \n",
       "1031133   276647            0   \n",
       "1031134   276647           10   \n",
       "1031135   276660            8   \n",
       "\n",
       "                                                Book-Title  \\\n",
       "0                                     Flesh Tones: A Novel   \n",
       "1                                     Flesh Tones: A Novel   \n",
       "2            Ender's Game (Ender Wiggins Saga (Paperback))   \n",
       "3                    In Cold Blood (Vintage International)   \n",
       "4         Divine Secrets of the Ya-Ya Sisterhood : A Novel   \n",
       "...                                                    ...   \n",
       "1031131                                            Le Huit   \n",
       "1031132  Ludwig Marum: Briefe aus dem Konzentrationslag...   \n",
       "1031133  Christmas With Anne and Other Holiday Stories:...   \n",
       "1031134    Heaven (Coretta Scott King Author Award Winner)   \n",
       "1031135                           ROBOT RACE (MICRO ADV 6)   \n",
       "\n",
       "                Book-Author Year-Of-Publication  \\\n",
       "0                M. J. Rose                2002   \n",
       "1                M. J. Rose                2002   \n",
       "2          Orson Scott Card                1986   \n",
       "3             TRUMAN CAPOTE                1994   \n",
       "4             Rebecca Wells                1996   \n",
       "...                     ...                 ...   \n",
       "1031131   Katherine Neville                2002   \n",
       "1031132        Ludwig Marum                1984   \n",
       "1031133    L. M. Montgomery                2001   \n",
       "1031134      Angela Johnson                1998   \n",
       "1031135  David Antony Kroft                1985   \n",
       "\n",
       "                                          Publisher  \\\n",
       "0                                  Ballantine Books   \n",
       "1                                  Ballantine Books   \n",
       "2                                         Tor Books   \n",
       "3                                           Vintage   \n",
       "4                                     HarperCollins   \n",
       "...                                             ...   \n",
       "1031131                             Le Cherche Midi   \n",
       "1031132                                C.F. MÃ¼ller   \n",
       "1031133                                    Starfire   \n",
       "1031134  Simon &amp; Schuster Children's Publishing   \n",
       "1031135                    HarperCollins Publishers   \n",
       "\n",
       "                                 Location  \n",
       "0                       tyler, texas, usa  \n",
       "1                   cincinnati, ohio, usa  \n",
       "2                   cincinnati, ohio, usa  \n",
       "3                   cincinnati, ohio, usa  \n",
       "4                   cincinnati, ohio, usa  \n",
       "...                                   ...  \n",
       "1031131       genève, genève, switzerland  \n",
       "1031132      stuttgart, \\n/a\\\"., germany\"  \n",
       "1031133  arlington heights, illinois, usa  \n",
       "1031134  arlington heights, illinois, usa  \n",
       "1031135         singapore, n/a, singapore  \n",
       "\n",
       "[1031136 rows x 7 columns]"
      ]
     },
     "execution_count": 4,
     "metadata": {},
     "output_type": "execute_result"
    }
   ],
   "source": [
    "ratings"
   ]
  },
  {
   "cell_type": "code",
   "execution_count": 5,
   "metadata": {},
   "outputs": [],
   "source": [
    "# Since not all users contain cities, we keep only the country\n",
    "ratings['Location'] = ratings['Location'].str.split(',').str[-1].str.strip()"
   ]
  },
  {
   "cell_type": "markdown",
   "metadata": {},
   "source": [
    "### Filtering \n",
    "\n",
    "The Kaggle narrative proposes two ways to filter data: thresholds for minimum user review count and minimum book ratings count. Lets apply both by starting with minimum user review count."
   ]
  },
  {
   "cell_type": "code",
   "execution_count": 6,
   "metadata": {
    "scrolled": true
   },
   "outputs": [],
   "source": [
    "active_users = ratings.groupby('User-ID')['Book-Rating'].count()\n",
    "# Filtering of 1000 was a the maximum viable threshold for Kernel to not crash\n",
    "active_user_ids = active_users[active_users > 200].index\n",
    "#active_user_ids"
   ]
  },
  {
   "cell_type": "code",
   "execution_count": 7,
   "metadata": {},
   "outputs": [],
   "source": [
    "books = ratings.groupby('Book-Title')['Book-Rating'].count()\n",
    "book_titles = books.index\n",
    "# Filter for user above threshold and all books\n",
    "filtered_df = ratings[ratings['User-ID'].isin(active_user_ids) & ratings['Book-Title'].isin(book_titles)]"
   ]
  },
  {
   "cell_type": "code",
   "execution_count": 8,
   "metadata": {
    "scrolled": false
   },
   "outputs": [
    {
     "data": {
      "text/html": [
       "<div>\n",
       "<style scoped>\n",
       "    .dataframe tbody tr th:only-of-type {\n",
       "        vertical-align: middle;\n",
       "    }\n",
       "\n",
       "    .dataframe tbody tr th {\n",
       "        vertical-align: top;\n",
       "    }\n",
       "\n",
       "    .dataframe thead th {\n",
       "        text-align: right;\n",
       "    }\n",
       "</style>\n",
       "<table border=\"1\" class=\"dataframe\">\n",
       "  <thead>\n",
       "    <tr style=\"text-align: right;\">\n",
       "      <th></th>\n",
       "      <th>User-ID</th>\n",
       "      <th>Book-Rating</th>\n",
       "      <th>Book-Title</th>\n",
       "      <th>Book-Author</th>\n",
       "      <th>Year-Of-Publication</th>\n",
       "      <th>Publisher</th>\n",
       "      <th>Location</th>\n",
       "    </tr>\n",
       "  </thead>\n",
       "  <tbody>\n",
       "    <tr>\n",
       "      <th>37</th>\n",
       "      <td>6543</td>\n",
       "      <td>0</td>\n",
       "      <td>Flesh Tones: A Novel</td>\n",
       "      <td>M. J. Rose</td>\n",
       "      <td>2002</td>\n",
       "      <td>Ballantine Books</td>\n",
       "      <td>usa</td>\n",
       "    </tr>\n",
       "    <tr>\n",
       "      <th>38</th>\n",
       "      <td>6543</td>\n",
       "      <td>0</td>\n",
       "      <td>The Lovely Bones: A Novel</td>\n",
       "      <td>Alice Sebold</td>\n",
       "      <td>2002</td>\n",
       "      <td>Little, Brown</td>\n",
       "      <td>usa</td>\n",
       "    </tr>\n",
       "    <tr>\n",
       "      <th>39</th>\n",
       "      <td>6543</td>\n",
       "      <td>0</td>\n",
       "      <td>The Da Vinci Code</td>\n",
       "      <td>Dan Brown</td>\n",
       "      <td>2003</td>\n",
       "      <td>Doubleday</td>\n",
       "      <td>usa</td>\n",
       "    </tr>\n",
       "    <tr>\n",
       "      <th>40</th>\n",
       "      <td>6543</td>\n",
       "      <td>0</td>\n",
       "      <td>Wild Animus</td>\n",
       "      <td>Rich Shapero</td>\n",
       "      <td>2004</td>\n",
       "      <td>Too Far</td>\n",
       "      <td>usa</td>\n",
       "    </tr>\n",
       "    <tr>\n",
       "      <th>41</th>\n",
       "      <td>6543</td>\n",
       "      <td>0</td>\n",
       "      <td>Four To Score (A Stephanie Plum Novel)</td>\n",
       "      <td>Janet Evanovich</td>\n",
       "      <td>1999</td>\n",
       "      <td>St. Martin's Paperbacks</td>\n",
       "      <td>usa</td>\n",
       "    </tr>\n",
       "    <tr>\n",
       "      <th>...</th>\n",
       "      <td>...</td>\n",
       "      <td>...</td>\n",
       "      <td>...</td>\n",
       "      <td>...</td>\n",
       "      <td>...</td>\n",
       "      <td>...</td>\n",
       "      <td>...</td>\n",
       "    </tr>\n",
       "    <tr>\n",
       "      <th>892567</th>\n",
       "      <td>133868</td>\n",
       "      <td>0</td>\n",
       "      <td>Bold Land, Bold Love</td>\n",
       "      <td>Connie Mason</td>\n",
       "      <td>1998</td>\n",
       "      <td>Love Spell</td>\n",
       "      <td>usa</td>\n",
       "    </tr>\n",
       "    <tr>\n",
       "      <th>892568</th>\n",
       "      <td>133868</td>\n",
       "      <td>0</td>\n",
       "      <td>Suddenly You</td>\n",
       "      <td>Lisa Kleypas</td>\n",
       "      <td>2001</td>\n",
       "      <td>Avon Books, Harper Collins</td>\n",
       "      <td>usa</td>\n",
       "    </tr>\n",
       "    <tr>\n",
       "      <th>892569</th>\n",
       "      <td>133868</td>\n",
       "      <td>8</td>\n",
       "      <td>Heartless</td>\n",
       "      <td>Kat Martin</td>\n",
       "      <td>2001</td>\n",
       "      <td>St. Martin's Press</td>\n",
       "      <td>usa</td>\n",
       "    </tr>\n",
       "    <tr>\n",
       "      <th>892570</th>\n",
       "      <td>133868</td>\n",
       "      <td>0</td>\n",
       "      <td>Shifting Calder Wind</td>\n",
       "      <td>Janet Dailey</td>\n",
       "      <td>2004</td>\n",
       "      <td>Zebra Books</td>\n",
       "      <td>usa</td>\n",
       "    </tr>\n",
       "    <tr>\n",
       "      <th>892571</th>\n",
       "      <td>133868</td>\n",
       "      <td>0</td>\n",
       "      <td>Ice &amp;amp; Rapture</td>\n",
       "      <td>Connie Mason</td>\n",
       "      <td>1997</td>\n",
       "      <td>Leisure Books</td>\n",
       "      <td>usa</td>\n",
       "    </tr>\n",
       "  </tbody>\n",
       "</table>\n",
       "<p>474007 rows × 7 columns</p>\n",
       "</div>"
      ],
      "text/plain": [
       "        User-ID  Book-Rating                              Book-Title  \\\n",
       "37         6543            0                    Flesh Tones: A Novel   \n",
       "38         6543            0               The Lovely Bones: A Novel   \n",
       "39         6543            0                       The Da Vinci Code   \n",
       "40         6543            0                             Wild Animus   \n",
       "41         6543            0  Four To Score (A Stephanie Plum Novel)   \n",
       "...         ...          ...                                     ...   \n",
       "892567   133868            0                    Bold Land, Bold Love   \n",
       "892568   133868            0                            Suddenly You   \n",
       "892569   133868            8                               Heartless   \n",
       "892570   133868            0                    Shifting Calder Wind   \n",
       "892571   133868            0                       Ice &amp; Rapture   \n",
       "\n",
       "            Book-Author Year-Of-Publication                   Publisher  \\\n",
       "37           M. J. Rose                2002            Ballantine Books   \n",
       "38         Alice Sebold                2002               Little, Brown   \n",
       "39            Dan Brown                2003                   Doubleday   \n",
       "40         Rich Shapero                2004                     Too Far   \n",
       "41      Janet Evanovich                1999     St. Martin's Paperbacks   \n",
       "...                 ...                 ...                         ...   \n",
       "892567     Connie Mason                1998                  Love Spell   \n",
       "892568     Lisa Kleypas                2001  Avon Books, Harper Collins   \n",
       "892569       Kat Martin                2001          St. Martin's Press   \n",
       "892570     Janet Dailey                2004                 Zebra Books   \n",
       "892571     Connie Mason                1997               Leisure Books   \n",
       "\n",
       "       Location  \n",
       "37          usa  \n",
       "38          usa  \n",
       "39          usa  \n",
       "40          usa  \n",
       "41          usa  \n",
       "...         ...  \n",
       "892567      usa  \n",
       "892568      usa  \n",
       "892569      usa  \n",
       "892570      usa  \n",
       "892571      usa  \n",
       "\n",
       "[474007 rows x 7 columns]"
      ]
     },
     "execution_count": 8,
     "metadata": {},
     "output_type": "execute_result"
    }
   ],
   "source": [
    "filtered_df"
   ]
  },
  {
   "cell_type": "markdown",
   "metadata": {},
   "source": [
    "Applying minimum book rating count."
   ]
  },
  {
   "cell_type": "code",
   "execution_count": 9,
   "metadata": {
    "scrolled": true
   },
   "outputs": [],
   "source": [
    "counts_ratings = filtered_df.groupby('Book-Title').count()['Book-Rating']"
   ]
  },
  {
   "cell_type": "code",
   "execution_count": 10,
   "metadata": {},
   "outputs": [],
   "source": [
    "# Filtering above 100 as optimal for kernel processing\n",
    "popular = counts_ratings[counts_ratings >=100].index"
   ]
  },
  {
   "cell_type": "code",
   "execution_count": 11,
   "metadata": {},
   "outputs": [],
   "source": [
    "filtered_df = filtered_df[filtered_df['Book-Title'].isin(popular)]"
   ]
  },
  {
   "cell_type": "code",
   "execution_count": 12,
   "metadata": {},
   "outputs": [
    {
     "data": {
      "text/html": [
       "<div>\n",
       "<style scoped>\n",
       "    .dataframe tbody tr th:only-of-type {\n",
       "        vertical-align: middle;\n",
       "    }\n",
       "\n",
       "    .dataframe tbody tr th {\n",
       "        vertical-align: top;\n",
       "    }\n",
       "\n",
       "    .dataframe thead th {\n",
       "        text-align: right;\n",
       "    }\n",
       "</style>\n",
       "<table border=\"1\" class=\"dataframe\">\n",
       "  <thead>\n",
       "    <tr style=\"text-align: right;\">\n",
       "      <th></th>\n",
       "      <th>User-ID</th>\n",
       "      <th>Book-Rating</th>\n",
       "      <th>Book-Title</th>\n",
       "      <th>Book-Author</th>\n",
       "      <th>Year-Of-Publication</th>\n",
       "      <th>Publisher</th>\n",
       "      <th>Location</th>\n",
       "    </tr>\n",
       "  </thead>\n",
       "  <tbody>\n",
       "    <tr>\n",
       "      <th>38</th>\n",
       "      <td>6543</td>\n",
       "      <td>0</td>\n",
       "      <td>The Lovely Bones: A Novel</td>\n",
       "      <td>Alice Sebold</td>\n",
       "      <td>2002</td>\n",
       "      <td>Little, Brown</td>\n",
       "      <td>usa</td>\n",
       "    </tr>\n",
       "    <tr>\n",
       "      <th>39</th>\n",
       "      <td>6543</td>\n",
       "      <td>0</td>\n",
       "      <td>The Da Vinci Code</td>\n",
       "      <td>Dan Brown</td>\n",
       "      <td>2003</td>\n",
       "      <td>Doubleday</td>\n",
       "      <td>usa</td>\n",
       "    </tr>\n",
       "    <tr>\n",
       "      <th>40</th>\n",
       "      <td>6543</td>\n",
       "      <td>0</td>\n",
       "      <td>Wild Animus</td>\n",
       "      <td>Rich Shapero</td>\n",
       "      <td>2004</td>\n",
       "      <td>Too Far</td>\n",
       "      <td>usa</td>\n",
       "    </tr>\n",
       "    <tr>\n",
       "      <th>44</th>\n",
       "      <td>6543</td>\n",
       "      <td>0</td>\n",
       "      <td>Violets Are Blue</td>\n",
       "      <td>James Patterson</td>\n",
       "      <td>2002</td>\n",
       "      <td>Warner Vision</td>\n",
       "      <td>usa</td>\n",
       "    </tr>\n",
       "    <tr>\n",
       "      <th>48</th>\n",
       "      <td>6543</td>\n",
       "      <td>8</td>\n",
       "      <td>Fahrenheit 451</td>\n",
       "      <td>RAY BRADBURY</td>\n",
       "      <td>1987</td>\n",
       "      <td>Del Rey</td>\n",
       "      <td>usa</td>\n",
       "    </tr>\n",
       "    <tr>\n",
       "      <th>...</th>\n",
       "      <td>...</td>\n",
       "      <td>...</td>\n",
       "      <td>...</td>\n",
       "      <td>...</td>\n",
       "      <td>...</td>\n",
       "      <td>...</td>\n",
       "      <td>...</td>\n",
       "    </tr>\n",
       "    <tr>\n",
       "      <th>831409</th>\n",
       "      <td>148199</td>\n",
       "      <td>10</td>\n",
       "      <td>The Golden Compass (His Dark Materials, Book 1)</td>\n",
       "      <td>PHILIP PULLMAN</td>\n",
       "      <td>2001</td>\n",
       "      <td>Yearling</td>\n",
       "      <td>canada</td>\n",
       "    </tr>\n",
       "    <tr>\n",
       "      <th>831463</th>\n",
       "      <td>148199</td>\n",
       "      <td>0</td>\n",
       "      <td>The Fellowship of the Ring (The Lord of the Ri...</td>\n",
       "      <td>J. R. R. Tolkien</td>\n",
       "      <td>2002</td>\n",
       "      <td>Houghton Mifflin Company</td>\n",
       "      <td>canada</td>\n",
       "    </tr>\n",
       "    <tr>\n",
       "      <th>841306</th>\n",
       "      <td>38781</td>\n",
       "      <td>0</td>\n",
       "      <td>The Nanny Diaries: A Novel</td>\n",
       "      <td>Emma McLaughlin</td>\n",
       "      <td>2003</td>\n",
       "      <td>St. Martin's Griffin</td>\n",
       "      <td>usa</td>\n",
       "    </tr>\n",
       "    <tr>\n",
       "      <th>856993</th>\n",
       "      <td>4385</td>\n",
       "      <td>0</td>\n",
       "      <td>The Five People You Meet in Heaven</td>\n",
       "      <td>Mitch Albom</td>\n",
       "      <td>2003</td>\n",
       "      <td>Hyperion</td>\n",
       "      <td>usa</td>\n",
       "    </tr>\n",
       "    <tr>\n",
       "      <th>857035</th>\n",
       "      <td>4385</td>\n",
       "      <td>10</td>\n",
       "      <td>The Runaway Jury</td>\n",
       "      <td>JOHN GRISHAM</td>\n",
       "      <td>1997</td>\n",
       "      <td>Dell</td>\n",
       "      <td>usa</td>\n",
       "    </tr>\n",
       "  </tbody>\n",
       "</table>\n",
       "<p>21099 rows × 7 columns</p>\n",
       "</div>"
      ],
      "text/plain": [
       "        User-ID  Book-Rating  \\\n",
       "38         6543            0   \n",
       "39         6543            0   \n",
       "40         6543            0   \n",
       "44         6543            0   \n",
       "48         6543            8   \n",
       "...         ...          ...   \n",
       "831409   148199           10   \n",
       "831463   148199            0   \n",
       "841306    38781            0   \n",
       "856993     4385            0   \n",
       "857035     4385           10   \n",
       "\n",
       "                                               Book-Title       Book-Author  \\\n",
       "38                              The Lovely Bones: A Novel      Alice Sebold   \n",
       "39                                      The Da Vinci Code         Dan Brown   \n",
       "40                                            Wild Animus      Rich Shapero   \n",
       "44                                       Violets Are Blue   James Patterson   \n",
       "48                                         Fahrenheit 451      RAY BRADBURY   \n",
       "...                                                   ...               ...   \n",
       "831409    The Golden Compass (His Dark Materials, Book 1)    PHILIP PULLMAN   \n",
       "831463  The Fellowship of the Ring (The Lord of the Ri...  J. R. R. Tolkien   \n",
       "841306                         The Nanny Diaries: A Novel   Emma McLaughlin   \n",
       "856993                 The Five People You Meet in Heaven       Mitch Albom   \n",
       "857035                                   The Runaway Jury      JOHN GRISHAM   \n",
       "\n",
       "       Year-Of-Publication                 Publisher Location  \n",
       "38                    2002             Little, Brown      usa  \n",
       "39                    2003                 Doubleday      usa  \n",
       "40                    2004                   Too Far      usa  \n",
       "44                    2002             Warner Vision      usa  \n",
       "48                    1987                   Del Rey      usa  \n",
       "...                    ...                       ...      ...  \n",
       "831409                2001                  Yearling   canada  \n",
       "831463                2002  Houghton Mifflin Company   canada  \n",
       "841306                2003      St. Martin's Griffin      usa  \n",
       "856993                2003                  Hyperion      usa  \n",
       "857035                1997                      Dell      usa  \n",
       "\n",
       "[21099 rows x 7 columns]"
      ]
     },
     "execution_count": 12,
     "metadata": {},
     "output_type": "execute_result"
    }
   ],
   "source": [
    "filtered_df"
   ]
  },
  {
   "cell_type": "markdown",
   "metadata": {},
   "source": [
    "### Similarity Matrix"
   ]
  },
  {
   "cell_type": "code",
   "execution_count": 13,
   "metadata": {
    "scrolled": true
   },
   "outputs": [
    {
     "data": {
      "text/plain": [
       "(150, 801)"
      ]
     },
     "execution_count": 13,
     "metadata": {},
     "output_type": "execute_result"
    }
   ],
   "source": [
    "pivot = filtered_df.pivot_table(index='Book-Title', columns='User-ID', values='Book-Rating')\n",
    "pivot.fillna(0, inplace=True)\n",
    "\n",
    "pivot.shape"
   ]
  },
  {
   "cell_type": "code",
   "execution_count": 14,
   "metadata": {},
   "outputs": [],
   "source": [
    "similarity_matrix = cosine_similarity(pivot)"
   ]
  },
  {
   "cell_type": "markdown",
   "metadata": {},
   "source": [
    "Defining a function for CF top 10 recommendations; based on the aforementioned kaggle narrative, adjusted for wider applicability"
   ]
  },
  {
   "cell_type": "code",
   "execution_count": 15,
   "metadata": {},
   "outputs": [],
   "source": [
    "def recommend_cf(name):\n",
    "    top_n = 10\n",
    "    book_idx = pivot.index.get_loc(name)\n",
    "    # Search through to find the most similar books, ignoring the first since its a score with itself\n",
    "    similar_books = sorted(enumerate(similarity_matrix[book_idx]), key=lambda x: x[1], reverse=True)[1:top_n+1]\n",
    "    # Return a list for recommended books; _ since the score is not needed\n",
    "    recommendations = [pivot.index[i] for i, _ in similar_books]\n",
    "    return recommendations"
   ]
  },
  {
   "cell_type": "code",
   "execution_count": 16,
   "metadata": {
    "scrolled": false
   },
   "outputs": [
    {
     "data": {
      "text/plain": [
       "['Kiss the Girls',\n",
       " '2nd Chance',\n",
       " 'The Testament',\n",
       " '1st to Die: A Novel',\n",
       " 'When the Wind Blows',\n",
       " 'The Partner',\n",
       " 'The Summons',\n",
       " 'Cradle and All',\n",
       " 'Along Came a Spider (Alex Cross Novels)',\n",
       " 'Good in Bed']"
      ]
     },
     "execution_count": 16,
     "metadata": {},
     "output_type": "execute_result"
    }
   ],
   "source": [
    "recommend_cf(\"Violets Are Blue\")"
   ]
  },
  {
   "cell_type": "markdown",
   "metadata": {},
   "source": [
    "## Evaluation\n",
    "\n",
    "Four main metrics were chosen to define accuracy for the baseline models:\n",
    "\n",
    "- RMSE\n",
    "- Recall@10"
   ]
  },
  {
   "cell_type": "code",
   "execution_count": 17,
   "metadata": {},
   "outputs": [
    {
     "name": "stdout",
     "output_type": "stream",
     "text": [
      "Index(['User-ID', 'Book-Rating', 'Book-Title', 'Book-Author',\n",
      "       'Year-Of-Publication', 'Publisher', 'Location'],\n",
      "      dtype='object')\n"
     ]
    }
   ],
   "source": [
    "print(filtered_df.columns)"
   ]
  },
  {
   "cell_type": "code",
   "execution_count": 18,
   "metadata": {},
   "outputs": [],
   "source": [
    "train_data, test_data = train_test_split(filtered_df, test_size=0.2, random_state=SEED)\n",
    "# pivot tables for training data\n",
    "train_pivot = train_data.pivot_table(index='Book-Title', columns='User-ID', values='Book-Rating')\n",
    "train_pivot.fillna(0, inplace=True)"
   ]
  },
  {
   "cell_type": "code",
   "execution_count": 19,
   "metadata": {},
   "outputs": [],
   "source": [
    "similarity_matrix_train = cosine_similarity(train_pivot)"
   ]
  },
  {
   "cell_type": "markdown",
   "metadata": {},
   "source": [
    "We can evaluate the method by comparing predicted and actual ratings. We do this for one user but the evaluation can be scoped (as done later)."
   ]
  },
  {
   "cell_type": "code",
   "execution_count": 20,
   "metadata": {
    "scrolled": true
   },
   "outputs": [],
   "source": [
    "def predict_rating(user_id, book_title):\n",
    "    if book_title not in train_pivot.index:\n",
    "        return np.nan\n",
    "\n",
    "    if user_id not in train_pivot.columns:\n",
    "        return np.nan\n",
    "\n",
    "    book_idx = train_pivot.index.get_loc(book_title)\n",
    "    user_ratings = train_pivot[user_id]\n",
    "    \n",
    "    # weighted average of similar books\n",
    "    sim_scores = similarity_matrix_train[book_idx]\n",
    "    weighted_sum = np.dot(sim_scores, user_ratings)\n",
    "    sum_of_similarities = np.sum(sim_scores)\n",
    "    \n",
    "    if sum_of_similarities == 0:\n",
    "        return np.nan\n",
    "    \n",
    "    return weighted_sum / sum_of_similarities"
   ]
  },
  {
   "cell_type": "code",
   "execution_count": 21,
   "metadata": {},
   "outputs": [
    {
     "data": {
      "text/plain": [
       "0.37610675165187146"
      ]
     },
     "execution_count": 21,
     "metadata": {},
     "output_type": "execute_result"
    }
   ],
   "source": [
    "predict_rating(6543, \"The Da Vinci Code\")"
   ]
  },
  {
   "cell_type": "markdown",
   "metadata": {},
   "source": [
    "We were having issues for predicting rate for the test set as well as calculating rmse. Ive asked [chatgpt for help](https://chatgpt.com/share/9d3f2300-a817-4e78-8ad0-74a2bcead0d3)"
   ]
  },
  {
   "cell_type": "code",
   "execution_count": 22,
   "metadata": {
    "scrolled": true
   },
   "outputs": [],
   "source": [
    "# predictions for the test set\n",
    "test_data['Predicted_Rating'] = test_data.apply(lambda row: predict_rating(row['User-ID'], row['Book-Title']), axis=1)"
   ]
  },
  {
   "cell_type": "code",
   "execution_count": 23,
   "metadata": {},
   "outputs": [],
   "source": [
    "data_for_validation = test_data.dropna(subset=['Predicted_Rating'])"
   ]
  },
  {
   "cell_type": "markdown",
   "metadata": {},
   "source": [
    "### RMSE"
   ]
  },
  {
   "cell_type": "code",
   "execution_count": 24,
   "metadata": {
    "scrolled": false
   },
   "outputs": [
    {
     "data": {
      "text/plain": [
       "3.873"
      ]
     },
     "execution_count": 24,
     "metadata": {},
     "output_type": "execute_result"
    }
   ],
   "source": [
    "rmse = np.sqrt(mean_squared_error(data_for_validation['Book-Rating'], data_for_validation['Predicted_Rating']))\n",
    "round(rmse, 3)"
   ]
  },
  {
   "cell_type": "markdown",
   "metadata": {},
   "source": [
    "### Recall@20"
   ]
  },
  {
   "cell_type": "markdown",
   "metadata": {},
   "source": [
    "Extract data with ratings greater than 5 (which we deem to be relevant)"
   ]
  },
  {
   "cell_type": "code",
   "execution_count": 344,
   "metadata": {},
   "outputs": [],
   "source": [
    "relevant_df = test_data[test_data['Book-Rating'] > 5][['User-ID', 'Book-Title']]\n",
    "unique_users = relevant_df['User-ID'].unique()\n",
    "\n",
    "# remove users not appearing in user-item matrix\n",
    "untrained_users = list(set(unique_users) - set(train_pivot.columns))\n",
    "relevant_df = relevant_df[~relevant_df['User-ID'].isin(untrained_users)]\n",
    "\n",
    "trained_users = [user for user in unique_users if user not in untrained_users]"
   ]
  },
  {
   "cell_type": "code",
   "execution_count": 345,
   "metadata": {},
   "outputs": [],
   "source": [
    "def fetch_top_10(user_id):\n",
    "    \"\"\"Get the titles of top 10 books\"\"\"\n",
    "    top_10_books_rating = train_pivot[user_id].sort_values(ascending=False)[:20]\n",
    "    top_10_books_title = top_10_books_rating.index.to_list()\n",
    "    return top_10_books_title if top_10_books_title else []"
   ]
  },
  {
   "cell_type": "code",
   "execution_count": 346,
   "metadata": {},
   "outputs": [],
   "source": [
    "user_index = pd.Index(trained_users, name='User-ID')\n",
    "pred_lists = pd.DataFrame(index=user_index, columns=['Top-20-Predictions'])\n",
    "\n",
    "for user_id in pred_lists.index:\n",
    "    top_20_preds = fetch_top_10(user_id)\n",
    "    pred_lists.loc[user_id, 'Top-20-Predictions'] = top_20_preds"
   ]
  },
  {
   "cell_type": "code",
   "execution_count": 347,
   "metadata": {},
   "outputs": [],
   "source": [
    "relevant_df['recall_10'] = False\n",
    "\n",
    "for index, row in relevant_df.iterrows():\n",
    "    user_id = row['User-ID']\n",
    "    ground_book = row['Book-Title']\n",
    "    top_20_preds = pred_lists.loc[user_id]\n",
    "\n",
    "    is_in_top_20 = any(ground_book in item for item in pred_lists.loc[user_id])\n",
    "    relevant_df.at[index, 'recall_10'] = is_in_top_20"
   ]
  },
  {
   "cell_type": "code",
   "execution_count": 348,
   "metadata": {},
   "outputs": [
    {
     "name": "stdout",
     "output_type": "stream",
     "text": [
      "0.08527918781725888\n"
     ]
    }
   ],
   "source": [
    "tp = relevant_df['recall_10'].sum()\n",
    "avg_recall_at_20 = tp / len(relevant_df)\n",
    "print(avg_recall_at_20)"
   ]
  },
  {
   "cell_type": "markdown",
   "metadata": {},
   "source": [
    "## Content-Based Filtering\n",
    "\n",
    "The following method is based on [this Kaggle documentation](https://www.kaggle.com/code/eyadgk/books-eda-vis-recommendation-systems#6-%7C%7C-Content-Based-Filtering-Recommender-System)"
   ]
  },
  {
   "cell_type": "code",
   "execution_count": 349,
   "metadata": {
    "scrolled": true
   },
   "outputs": [],
   "source": [
    "filtered_df_cbf = filtered_df.copy()\n",
    "counts = pd.DataFrame(filtered_df_cbf['Book-Title'].value_counts())"
   ]
  },
  {
   "cell_type": "code",
   "execution_count": 350,
   "metadata": {
    "scrolled": false
   },
   "outputs": [
    {
     "data": {
      "text/plain": [
       "(150, 1)"
      ]
     },
     "execution_count": 350,
     "metadata": {},
     "output_type": "execute_result"
    }
   ],
   "source": [
    "counts.shape"
   ]
  },
  {
   "cell_type": "markdown",
   "metadata": {},
   "source": [
    "Lets remove books with lower than 5 counts."
   ]
  },
  {
   "cell_type": "code",
   "execution_count": 351,
   "metadata": {},
   "outputs": [
    {
     "data": {
      "text/plain": [
       "(21099, 7)"
      ]
     },
     "execution_count": 351,
     "metadata": {},
     "output_type": "execute_result"
    }
   ],
   "source": [
    "rare=counts[counts['count']<=5].index\n",
    "common=filtered_df_cbf[~filtered_df_cbf[\"Book-Title\"].isin(rare)]\n",
    "common.shape"
   ]
  },
  {
   "cell_type": "markdown",
   "metadata": {},
   "source": [
    "Selecting only unique books to reduce redundancy."
   ]
  },
  {
   "cell_type": "code",
   "execution_count": 352,
   "metadata": {
    "scrolled": true
   },
   "outputs": [
    {
     "data": {
      "text/html": [
       "<div>\n",
       "<style scoped>\n",
       "    .dataframe tbody tr th:only-of-type {\n",
       "        vertical-align: middle;\n",
       "    }\n",
       "\n",
       "    .dataframe tbody tr th {\n",
       "        vertical-align: top;\n",
       "    }\n",
       "\n",
       "    .dataframe thead th {\n",
       "        text-align: right;\n",
       "    }\n",
       "</style>\n",
       "<table border=\"1\" class=\"dataframe\">\n",
       "  <thead>\n",
       "    <tr style=\"text-align: right;\">\n",
       "      <th></th>\n",
       "      <th>index</th>\n",
       "      <th>User-ID</th>\n",
       "      <th>Book-Rating</th>\n",
       "      <th>Book-Title</th>\n",
       "      <th>Book-Author</th>\n",
       "      <th>Year-Of-Publication</th>\n",
       "      <th>Publisher</th>\n",
       "      <th>Location</th>\n",
       "    </tr>\n",
       "  </thead>\n",
       "  <tbody>\n",
       "    <tr>\n",
       "      <th>0</th>\n",
       "      <td>38</td>\n",
       "      <td>6543</td>\n",
       "      <td>0</td>\n",
       "      <td>The Lovely Bones: A Novel</td>\n",
       "      <td>Alice Sebold</td>\n",
       "      <td>2002</td>\n",
       "      <td>Little, Brown</td>\n",
       "      <td>usa</td>\n",
       "    </tr>\n",
       "    <tr>\n",
       "      <th>1</th>\n",
       "      <td>39</td>\n",
       "      <td>6543</td>\n",
       "      <td>0</td>\n",
       "      <td>The Da Vinci Code</td>\n",
       "      <td>Dan Brown</td>\n",
       "      <td>2003</td>\n",
       "      <td>Doubleday</td>\n",
       "      <td>usa</td>\n",
       "    </tr>\n",
       "    <tr>\n",
       "      <th>2</th>\n",
       "      <td>40</td>\n",
       "      <td>6543</td>\n",
       "      <td>0</td>\n",
       "      <td>Wild Animus</td>\n",
       "      <td>Rich Shapero</td>\n",
       "      <td>2004</td>\n",
       "      <td>Too Far</td>\n",
       "      <td>usa</td>\n",
       "    </tr>\n",
       "    <tr>\n",
       "      <th>3</th>\n",
       "      <td>44</td>\n",
       "      <td>6543</td>\n",
       "      <td>0</td>\n",
       "      <td>Violets Are Blue</td>\n",
       "      <td>James Patterson</td>\n",
       "      <td>2002</td>\n",
       "      <td>Warner Vision</td>\n",
       "      <td>usa</td>\n",
       "    </tr>\n",
       "    <tr>\n",
       "      <th>4</th>\n",
       "      <td>48</td>\n",
       "      <td>6543</td>\n",
       "      <td>8</td>\n",
       "      <td>Fahrenheit 451</td>\n",
       "      <td>RAY BRADBURY</td>\n",
       "      <td>1987</td>\n",
       "      <td>Del Rey</td>\n",
       "      <td>usa</td>\n",
       "    </tr>\n",
       "    <tr>\n",
       "      <th>...</th>\n",
       "      <td>...</td>\n",
       "      <td>...</td>\n",
       "      <td>...</td>\n",
       "      <td>...</td>\n",
       "      <td>...</td>\n",
       "      <td>...</td>\n",
       "      <td>...</td>\n",
       "      <td>...</td>\n",
       "    </tr>\n",
       "    <tr>\n",
       "      <th>145</th>\n",
       "      <td>17833</td>\n",
       "      <td>260897</td>\n",
       "      <td>0</td>\n",
       "      <td>The Poisonwood Bible: A Novel</td>\n",
       "      <td>Barbara Kingsolver</td>\n",
       "      <td>1999</td>\n",
       "      <td>Perennial</td>\n",
       "      <td>usa</td>\n",
       "    </tr>\n",
       "    <tr>\n",
       "      <th>146</th>\n",
       "      <td>17862</td>\n",
       "      <td>260897</td>\n",
       "      <td>0</td>\n",
       "      <td>Airframe</td>\n",
       "      <td>Michael Crichton</td>\n",
       "      <td>1997</td>\n",
       "      <td>Ballantine Books</td>\n",
       "      <td>usa</td>\n",
       "    </tr>\n",
       "    <tr>\n",
       "      <th>147</th>\n",
       "      <td>20019</td>\n",
       "      <td>278418</td>\n",
       "      <td>0</td>\n",
       "      <td>Watership Down</td>\n",
       "      <td>Richard Adams</td>\n",
       "      <td>1976</td>\n",
       "      <td>Avon</td>\n",
       "      <td>usa</td>\n",
       "    </tr>\n",
       "    <tr>\n",
       "      <th>148</th>\n",
       "      <td>23722</td>\n",
       "      <td>7158</td>\n",
       "      <td>0</td>\n",
       "      <td>Mystic River</td>\n",
       "      <td>Dennis Lehane</td>\n",
       "      <td>2001</td>\n",
       "      <td>William Morrow &amp;amp; Company</td>\n",
       "      <td>usa</td>\n",
       "    </tr>\n",
       "    <tr>\n",
       "      <th>149</th>\n",
       "      <td>24282</td>\n",
       "      <td>11676</td>\n",
       "      <td>0</td>\n",
       "      <td>Girl with a Pearl Earring</td>\n",
       "      <td>Tracy Chevalier</td>\n",
       "      <td>2001</td>\n",
       "      <td>Plume Books</td>\n",
       "      <td>n/a</td>\n",
       "    </tr>\n",
       "  </tbody>\n",
       "</table>\n",
       "<p>150 rows × 8 columns</p>\n",
       "</div>"
      ],
      "text/plain": [
       "     index  User-ID  Book-Rating                     Book-Title  \\\n",
       "0       38     6543            0      The Lovely Bones: A Novel   \n",
       "1       39     6543            0              The Da Vinci Code   \n",
       "2       40     6543            0                    Wild Animus   \n",
       "3       44     6543            0               Violets Are Blue   \n",
       "4       48     6543            8                 Fahrenheit 451   \n",
       "..     ...      ...          ...                            ...   \n",
       "145  17833   260897            0  The Poisonwood Bible: A Novel   \n",
       "146  17862   260897            0                       Airframe   \n",
       "147  20019   278418            0                 Watership Down   \n",
       "148  23722     7158            0                   Mystic River   \n",
       "149  24282    11676            0      Girl with a Pearl Earring   \n",
       "\n",
       "            Book-Author Year-Of-Publication                     Publisher  \\\n",
       "0          Alice Sebold                2002                 Little, Brown   \n",
       "1             Dan Brown                2003                     Doubleday   \n",
       "2          Rich Shapero                2004                       Too Far   \n",
       "3       James Patterson                2002                 Warner Vision   \n",
       "4          RAY BRADBURY                1987                       Del Rey   \n",
       "..                  ...                 ...                           ...   \n",
       "145  Barbara Kingsolver                1999                     Perennial   \n",
       "146    Michael Crichton                1997              Ballantine Books   \n",
       "147       Richard Adams                1976                          Avon   \n",
       "148       Dennis Lehane                2001  William Morrow &amp; Company   \n",
       "149     Tracy Chevalier                2001                   Plume Books   \n",
       "\n",
       "    Location  \n",
       "0        usa  \n",
       "1        usa  \n",
       "2        usa  \n",
       "3        usa  \n",
       "4        usa  \n",
       "..       ...  \n",
       "145      usa  \n",
       "146      usa  \n",
       "147      usa  \n",
       "148      usa  \n",
       "149      n/a  \n",
       "\n",
       "[150 rows x 8 columns]"
      ]
     },
     "execution_count": 352,
     "metadata": {},
     "output_type": "execute_result"
    }
   ],
   "source": [
    "unique = common.drop_duplicates(subset=[\"Book-Title\"])\n",
    "# keeping the index as column for easier evaluation later\n",
    "unique.reset_index(inplace=True)\n",
    "unique"
   ]
  },
  {
   "cell_type": "markdown",
   "metadata": {},
   "source": [
    "Since CBF considers books which the user considered positively before, we create a column containing all valuable information on books."
   ]
  },
  {
   "cell_type": "code",
   "execution_count": 353,
   "metadata": {
    "scrolled": true
   },
   "outputs": [
    {
     "name": "stderr",
     "output_type": "stream",
     "text": [
      "/var/folders/qc/8fy08h5s33n4rrmz09_8bv680000gn/T/ipykernel_36081/4223363933.py:2: SettingWithCopyWarning: \n",
      "A value is trying to be set on a copy of a slice from a DataFrame.\n",
      "Try using .loc[row_indexer,col_indexer] = value instead\n",
      "\n",
      "See the caveats in the documentation: https://pandas.pydata.org/pandas-docs/stable/user_guide/indexing.html#returning-a-view-versus-a-copy\n",
      "  unique[['Book-Title', 'Book-Author', 'Publisher']] = unique[['Book-Title', 'Book-Author', 'Publisher']].apply(lambda x: x.astype('object'))\n"
     ]
    }
   ],
   "source": [
    "# Lets convert content in the columns into strings \n",
    "unique[['Book-Title', 'Book-Author', 'Publisher']] = unique[['Book-Title', 'Book-Author', 'Publisher']].apply(lambda x: x.astype('object'))"
   ]
  },
  {
   "cell_type": "code",
   "execution_count": 354,
   "metadata": {},
   "outputs": [
    {
     "name": "stderr",
     "output_type": "stream",
     "text": [
      "/var/folders/qc/8fy08h5s33n4rrmz09_8bv680000gn/T/ipykernel_36081/3318398411.py:3: SettingWithCopyWarning: \n",
      "A value is trying to be set on a copy of a slice from a DataFrame.\n",
      "Try using .loc[row_indexer,col_indexer] = value instead\n",
      "\n",
      "See the caveats in the documentation: https://pandas.pydata.org/pandas-docs/stable/user_guide/indexing.html#returning-a-view-versus-a-copy\n",
      "  unique[\"cbf_data\"] = unique[targets].apply(lambda row: \" \".join(row.astype(str)), axis=1)\n"
     ]
    }
   ],
   "source": [
    "# Concatanating them via\n",
    "targets = [\"Book-Title\", \"Book-Author\", \"Publisher\"]\n",
    "unique[\"cbf_data\"] = unique[targets].apply(lambda row: \" \".join(row.astype(str)), axis=1)"
   ]
  },
  {
   "cell_type": "code",
   "execution_count": 356,
   "metadata": {},
   "outputs": [],
   "source": [
    "# transforms the relevant column to document-term matrix \n",
    "vectorizer=CountVectorizer()\n",
    "common_booksVector=vectorizer.fit_transform(unique[\"cbf_data\"])"
   ]
  },
  {
   "cell_type": "code",
   "execution_count": 357,
   "metadata": {
    "scrolled": true
   },
   "outputs": [],
   "source": [
    "# calculates cosine similarity \n",
    "similarity=cosine_similarity(common_booksVector)"
   ]
  },
  {
   "cell_type": "markdown",
   "metadata": {},
   "source": [
    "Lets find similar books based on the `similarity`"
   ]
  },
  {
   "cell_type": "code",
   "execution_count": 358,
   "metadata": {},
   "outputs": [],
   "source": [
    "def recommend_cbf(name):\n",
    "    top_n = 10\n",
    "    # finding index of the book\n",
    "    matching_rows = unique[unique['Book-Title'] == name].index\n",
    "    \n",
    "    if matching_rows.empty:\n",
    "        return []\n",
    "    \n",
    "    book_index = matching_rows[0]\n",
    "    # calculating similarity scores; ignoring the first one since its of self\n",
    "    similar_books = sorted(enumerate(similarity[book_index]), key=lambda x: x[1], reverse=True)[1:top_n+1]\n",
    "    # no need for a score, only names of the books\n",
    "    recommendations = [unique['Book-Title'].iloc[i] for i, _ in similar_books]\n",
    "    \n",
    "    return recommendations"
   ]
  },
  {
   "cell_type": "code",
   "execution_count": 364,
   "metadata": {
    "scrolled": true
   },
   "outputs": [
    {
     "data": {
      "text/plain": [
       "['The Beach House',\n",
       " 'The Street Lawyer',\n",
       " 'Angels &amp; Demons',\n",
       " 'The Fellowship of the Ring (The Lord of the Rings, Part 1)',\n",
       " 'The Lovely Bones: A Novel',\n",
       " 'The King of Torts',\n",
       " 'A Map of the World',\n",
       " 'Wicked: The Life and Times of the Wicked Witch of the West',\n",
       " 'The Deep End of the Ocean',\n",
       " 'Harry Potter and the Order of the Phoenix (Book 5)']"
      ]
     },
     "execution_count": 364,
     "metadata": {},
     "output_type": "execute_result"
    }
   ],
   "source": [
    "recommend_cbf(\"The Da Vinci Code\")"
   ]
  }
 ],
 "metadata": {
  "kernelspec": {
   "display_name": "Python 3 (ipykernel)",
   "language": "python",
   "name": "python3"
  },
  "language_info": {
   "codemirror_mode": {
    "name": "ipython",
    "version": 3
   },
   "file_extension": ".py",
   "mimetype": "text/x-python",
   "name": "python",
   "nbconvert_exporter": "python",
   "pygments_lexer": "ipython3",
   "version": "3.11.3"
  },
  "vscode": {
   "interpreter": {
    "hash": "8f6377febe87314814c7b7161cea679ad38a9298f17e15a391a898e937fe96e0"
   }
  }
 },
 "nbformat": 4,
 "nbformat_minor": 2
}
